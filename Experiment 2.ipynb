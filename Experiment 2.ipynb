{
 "cells": [
  {
   "cell_type": "markdown",
   "metadata": {},
   "source": [
    "# a) Print all the Arabic Stopwords."
   ]
  },
  {
   "cell_type": "code",
   "execution_count": 1,
   "metadata": {},
   "outputs": [
    {
     "name": "stdout",
     "output_type": "stream",
     "text": [
      "['إذ', 'إذا', 'إذما', 'إذن', 'أف', 'أقل', 'أكثر', 'ألا', 'إلا', 'التي', 'الذي', 'الذين', 'اللاتي', 'اللائي', 'اللتان', 'اللتيا', 'اللتين', 'اللذان', 'اللذين', 'اللواتي', 'إلى', 'إليك', 'إليكم', 'إليكما', 'إليكن', 'أم', 'أما', 'أما', 'إما', 'أن', 'إن', 'إنا', 'أنا', 'أنت', 'أنتم', 'أنتما', 'أنتن', 'إنما', 'إنه', 'أنى', 'أنى', 'آه', 'آها', 'أو', 'أولاء', 'أولئك', 'أوه', 'آي', 'أي', 'أيها', 'إي', 'أين', 'أين', 'أينما', 'إيه', 'بخ', 'بس', 'بعد', 'بعض', 'بك', 'بكم', 'بكم', 'بكما', 'بكن', 'بل', 'بلى', 'بما', 'بماذا', 'بمن', 'بنا', 'به', 'بها', 'بهم', 'بهما', 'بهن', 'بي', 'بين', 'بيد', 'تلك', 'تلكم', 'تلكما', 'ته', 'تي', 'تين', 'تينك', 'ثم', 'ثمة', 'حاشا', 'حبذا', 'حتى', 'حيث', 'حيثما', 'حين', 'خلا', 'دون', 'ذا', 'ذات', 'ذاك', 'ذان', 'ذانك', 'ذلك', 'ذلكم', 'ذلكما', 'ذلكن', 'ذه', 'ذو', 'ذوا', 'ذواتا', 'ذواتي', 'ذي', 'ذين', 'ذينك', 'ريث', 'سوف', 'سوى', 'شتان', 'عدا', 'عسى', 'عل', 'على', 'عليك', 'عليه', 'عما', 'عن', 'عند', 'غير', 'فإذا', 'فإن', 'فلا', 'فمن', 'في', 'فيم', 'فيما', 'فيه', 'فيها', 'قد', 'كأن', 'كأنما', 'كأي', 'كأين', 'كذا', 'كذلك', 'كل', 'كلا', 'كلاهما', 'كلتا', 'كلما', 'كليكما', 'كليهما', 'كم', 'كم', 'كما', 'كي', 'كيت', 'كيف', 'كيفما', 'لا', 'لاسيما', 'لدى', 'لست', 'لستم', 'لستما', 'لستن', 'لسن', 'لسنا', 'لعل', 'لك', 'لكم', 'لكما', 'لكن', 'لكنما', 'لكي', 'لكيلا', 'لم', 'لما', 'لن', 'لنا', 'له', 'لها', 'لهم', 'لهما', 'لهن', 'لو', 'لولا', 'لوما', 'لي', 'لئن', 'ليت', 'ليس', 'ليسا', 'ليست', 'ليستا', 'ليسوا', 'ما', 'ماذا', 'متى', 'مذ', 'مع', 'مما', 'ممن', 'من', 'منه', 'منها', 'منذ', 'مه', 'مهما', 'نحن', 'نحو', 'نعم', 'ها', 'هاتان', 'هاته', 'هاتي', 'هاتين', 'هاك', 'هاهنا', 'هذا', 'هذان', 'هذه', 'هذي', 'هذين', 'هكذا', 'هل', 'هلا', 'هم', 'هما', 'هن', 'هنا', 'هناك', 'هنالك', 'هو', 'هؤلاء', 'هي', 'هيا', 'هيت', 'هيهات', 'والذي', 'والذين', 'وإذ', 'وإذا', 'وإن', 'ولا', 'ولكن', 'ولو', 'وما', 'ومن', 'وهو', 'يا']\n"
     ]
    }
   ],
   "source": [
    "from nltk.corpus import stopwords\n",
    "stopwords_list = stopwords.words('arabic')\n",
    "print(stopwords_list)"
   ]
  },
  {
   "cell_type": "markdown",
   "metadata": {},
   "source": [
    "# b) Omit a given list of stop words from the total stopwords list of English language."
   ]
  },
  {
   "cell_type": "code",
   "execution_count": 3,
   "metadata": {},
   "outputs": [
    {
     "name": "stdout",
     "output_type": "stream",
     "text": [
      "List of stopwords in English:\n",
      "{'for', 'by', 'nor', 'will', 'had', \"you're\", 'few', 'into', 'through', 'again', 'those', 'of', \"that'll\", 'did', 'you', 'her', 'has', 'no', 'didn', \"shan't\", 'being', 'which', 'having', 're', 'hadn', 'am', 'some', 'theirs', \"isn't\", 'such', 'its', 'she', 'the', 'was', 'itself', 'only', 'doing', 'aren', 'll', \"hadn't\", 'ma', 'below', \"mustn't\", 'same', 'where', 'his', 'doesn', 'ain', 'isn', \"couldn't\", 'at', 'can', 'not', \"should've\", 'that', 'a', \"wasn't\", 'himself', 'ours', 'against', 'too', \"weren't\", \"you'll\", 'how', 'your', 'further', 'any', 'whom', 'him', 'were', 'before', \"you'd\", 'haven', 'just', \"she's\", 'y', 'their', 'themselves', 've', 'most', 'yourselves', 'needn', 'ourselves', 'hasn', 'mustn', 'why', 'above', 'should', 'mightn', 'or', \"needn't\", 's', 'yours', 'does', 'off', 'now', \"aren't\", 'herself', 'but', 'been', 'as', \"you've\", 'in', \"mightn't\", 'after', 'shan', 'with', 'when', 'all', 'to', 'here', \"haven't\", \"shouldn't\", 'there', \"don't\", 'd', 'our', 'under', 'it', 'i', 'me', 'until', 'both', 'my', 'an', 'once', 'from', 'these', 'about', 'if', 'while', 'don', 'down', 'each', 'he', 'this', 'out', 'on', \"hasn't\", 'shouldn', 't', \"wouldn't\", 'own', 'than', 'weren', 'is', 'are', 'hers', 'they', 'during', 'yourself', 'have', 'what', 'won', 'myself', 'over', 'wasn', 'then', 'o', 'and', \"won't\", 'wouldn', 'more', 'because', 'm', 'couldn', 'them', 'we', 'be', 'between', \"didn't\", 'who', 'very', \"doesn't\", 'other', 'up', \"it's\", 'so', 'do'}\n",
      "\n",
      "List of fresh stopwords in English:\n",
      "{'for', 'by', 'nor', 'will', 'had', \"you're\", 'few', 'into', 'through', 'again', 'those', 'of', \"that'll\", 'did', 'you', 'her', 'has', 'no', 'didn', \"shan't\", 'being', 'which', 'having', 're', 'hadn', 'am', 'some', 'theirs', \"isn't\", 'such', 'its', 'she', 'the', 'was', 'itself', 'only', 'doing', 'aren', 'll', \"hadn't\", 'ma', 'below', \"mustn't\", 'same', 'where', 'his', 'doesn', 'ain', 'isn', \"couldn't\", 'at', 'can', 'not', \"should've\", 'that', 'a', \"wasn't\", 'himself', 'ours', 'against', 'too', \"weren't\", \"you'll\", 'how', 'your', 'further', 'any', 'whom', 'him', 'were', 'before', \"you'd\", 'haven', 'just', \"she's\", 'y', 'their', 'themselves', 've', 'most', 'yourselves', 'needn', 'ourselves', 'hasn', 'mustn', 'why', 'should', 'mightn', 'or', \"needn't\", 's', 'yours', 'does', 'off', 'now', \"aren't\", 'herself', 'but', 'been', 'as', \"you've\", 'in', \"mightn't\", 'after', 'shan', 'with', 'when', 'all', 'to', 'here', \"haven't\", \"shouldn't\", 'there', \"don't\", 'd', 'our', 'under', 'it', 'i', 'me', 'until', 'both', 'my', 'an', 'once', 'from', 'these', 'about', 'if', 'while', 'don', 'down', 'each', 'he', 'this', 'out', 'on', \"hasn't\", 'shouldn', 't', \"wouldn't\", 'own', 'than', 'weren', 'is', 'are', 'hers', 'they', 'during', 'yourself', 'have', 'what', 'over', 'wasn', 'then', 'o', 'and', \"won't\", 'wouldn', 'more', 'because', 'm', 'couldn', 'them', 'we', 'be', 'between', \"didn't\", 'who', 'very', \"doesn't\", 'other', 'up', \"it's\", 'so', 'do'}\n"
     ]
    }
   ],
   "source": [
    "r = set(stopwords.words('english'))\n",
    "print(\"List of stopwords in English:\")\n",
    "print(r)\n",
    "\n",
    "stop_words = set(stopwords.words('english')) - set(['myself', 'won', 'above'])\n",
    "print(\"\\nList of fresh stopwords in English:\")\n",
    "print (stop_words)"
   ]
  },
  {
   "cell_type": "markdown",
   "metadata": {},
   "source": []
  },
  {
   "cell_type": "code",
   "execution_count": null,
   "metadata": {},
   "outputs": [],
   "source": []
  }
 ],
 "metadata": {
  "kernelspec": {
   "display_name": "Python 3",
   "language": "python",
   "name": "python3"
  },
  "language_info": {
   "codemirror_mode": {
    "name": "ipython",
    "version": 3
   },
   "file_extension": ".py",
   "mimetype": "text/x-python",
   "name": "python",
   "nbconvert_exporter": "python",
   "pygments_lexer": "ipython3",
   "version": "3.8.3"
  }
 },
 "nbformat": 4,
 "nbformat_minor": 4
}
