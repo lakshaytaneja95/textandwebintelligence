{
 "cells": [
  {
   "cell_type": "markdown",
   "metadata": {},
   "source": [
    "# Question 1"
   ]
  },
  {
   "cell_type": "code",
   "execution_count": 1,
   "metadata": {},
   "outputs": [],
   "source": [
    "import nltk"
   ]
  },
  {
   "cell_type": "code",
   "execution_count": 2,
   "metadata": {},
   "outputs": [],
   "source": [
    "from nltk.corpus import stopwords"
   ]
  },
  {
   "cell_type": "code",
   "execution_count": 7,
   "metadata": {},
   "outputs": [
    {
     "data": {
      "text/plain": [
       "['arabic',\n",
       " 'azerbaijani',\n",
       " 'danish',\n",
       " 'dutch',\n",
       " 'english',\n",
       " 'finnish',\n",
       " 'french',\n",
       " 'german',\n",
       " 'greek',\n",
       " 'hungarian',\n",
       " 'indonesian',\n",
       " 'italian',\n",
       " 'kazakh',\n",
       " 'nepali',\n",
       " 'norwegian',\n",
       " 'portuguese',\n",
       " 'romanian',\n",
       " 'russian',\n",
       " 'slovene',\n",
       " 'spanish',\n",
       " 'swedish',\n",
       " 'tajik',\n",
       " 'turkish']"
      ]
     },
     "execution_count": 7,
     "metadata": {},
     "output_type": "execute_result"
    }
   ],
   "source": [
    "stopwords.fileids()"
   ]
  },
  {
   "cell_type": "markdown",
   "metadata": {},
   "source": [
    "# Question 2"
   ]
  },
  {
   "cell_type": "code",
   "execution_count": 8,
   "metadata": {},
   "outputs": [
    {
     "name": "stderr",
     "output_type": "stream",
     "text": [
      "[nltk_data] Downloading package names to C:\\Users\\lakshay\n",
      "[nltk_data]     taneja\\AppData\\Roaming\\nltk_data...\n",
      "[nltk_data]   Package names is already up-to-date!\n"
     ]
    },
    {
     "data": {
      "text/plain": [
       "True"
      ]
     },
     "execution_count": 8,
     "metadata": {},
     "output_type": "execute_result"
    }
   ],
   "source": [
    "nltk.download('names')"
   ]
  },
  {
   "cell_type": "code",
   "execution_count": 9,
   "metadata": {},
   "outputs": [],
   "source": [
    "from nltk.corpus import names"
   ]
  },
  {
   "cell_type": "code",
   "execution_count": 10,
   "metadata": {},
   "outputs": [
    {
     "data": {
      "text/plain": [
       "['female.txt', 'male.txt']"
      ]
     },
     "execution_count": 10,
     "metadata": {},
     "output_type": "execute_result"
    }
   ],
   "source": [
    "names.fileids()"
   ]
  },
  {
   "cell_type": "code",
   "execution_count": 11,
   "metadata": {},
   "outputs": [
    {
     "name": "stdout",
     "output_type": "stream",
     "text": [
      "2943\n"
     ]
    }
   ],
   "source": [
    "print(len(names.words('male.txt')))"
   ]
  },
  {
   "cell_type": "code",
   "execution_count": 12,
   "metadata": {},
   "outputs": [
    {
     "name": "stdout",
     "output_type": "stream",
     "text": [
      "5001\n"
     ]
    }
   ],
   "source": [
    "print(len(names.words('female.txt')))"
   ]
  },
  {
   "cell_type": "code",
   "execution_count": 13,
   "metadata": {},
   "outputs": [
    {
     "data": {
      "text/plain": [
       "['Aamir',\n",
       " 'Aaron',\n",
       " 'Abbey',\n",
       " 'Abbie',\n",
       " 'Abbot',\n",
       " 'Abbott',\n",
       " 'Abby',\n",
       " 'Abdel',\n",
       " 'Abdul',\n",
       " 'Abdulkarim',\n",
       " 'Abdullah',\n",
       " 'Abe',\n",
       " 'Abel',\n",
       " 'Abelard',\n",
       " 'Abner']"
      ]
     },
     "execution_count": 13,
     "metadata": {},
     "output_type": "execute_result"
    }
   ],
   "source": [
    "names.words('male.txt')[:15]"
   ]
  },
  {
   "cell_type": "code",
   "execution_count": 14,
   "metadata": {},
   "outputs": [
    {
     "data": {
      "text/plain": [
       "['Abagael',\n",
       " 'Abagail',\n",
       " 'Abbe',\n",
       " 'Abbey',\n",
       " 'Abbi',\n",
       " 'Abbie',\n",
       " 'Abby',\n",
       " 'Abigael',\n",
       " 'Abigail',\n",
       " 'Abigale',\n",
       " 'Abra',\n",
       " 'Acacia',\n",
       " 'Ada',\n",
       " 'Adah',\n",
       " 'Adaline']"
      ]
     },
     "execution_count": 14,
     "metadata": {},
     "output_type": "execute_result"
    }
   ],
   "source": [
    "names.words('female.txt')[:15]"
   ]
  },
  {
   "cell_type": "markdown",
   "metadata": {},
   "source": [
    "# Question 3 "
   ]
  },
  {
   "cell_type": "code",
   "execution_count": 15,
   "metadata": {},
   "outputs": [
    {
     "name": "stdout",
     "output_type": "stream",
     "text": [
      "List of stopwords in English:\n",
      "{'your', 'doing', 'itself', 'wasn', \"weren't\", 're', 'm', \"should've\", 'had', 'more', 'the', \"haven't\", \"won't\", 'both', 'once', 'ma', 'my', 'there', 'has', 'until', \"she's\", 'i', 'being', 'off', 'hasn', 'aren', \"doesn't\", \"shouldn't\", 'over', 'it', 'below', 'very', \"mightn't\", 'her', \"needn't\", \"mustn't\", 'these', 'did', 'same', 'himself', 'after', 'themselves', 'above', 'am', 'be', 'hers', 'd', 'with', 'such', 's', 'under', 'does', 'not', 'when', \"aren't\", 'out', 'during', 'for', 'them', 'through', 'about', \"wouldn't\", 't', 'too', 'don', 'couldn', 'hadn', 'won', 'why', 'haven', 'mightn', \"you'll\", 'ours', \"you'd\", 'needn', 'few', 'that', 'were', 'herself', 'yourselves', 'before', 'some', 'we', 'have', 'this', \"hasn't\", 'most', 'but', \"didn't\", 'only', \"don't\", 'at', 'by', 'any', 'me', 'o', 'up', 'into', 'can', 'been', 'ain', 'if', 'doesn', 'those', \"wasn't\", \"it's\", 'is', 'an', 'and', 'further', \"isn't\", 'you', 'its', 'wouldn', 'didn', 'are', \"shan't\", 'their', 'll', 'will', 'no', 'again', 'which', 'shouldn', 'his', 'having', 'each', 'they', 'as', 'then', 'against', 'ourselves', 'should', 'while', 'down', 'she', 'to', 'in', 'of', \"you're\", 've', 'who', 'on', 'how', \"couldn't\", 'where', \"that'll\", 'was', 'or', 'he', 'than', 'here', 'just', 'between', 'isn', 'yourself', 'him', 'whom', \"you've\", 'a', 'now', 'weren', 'nor', 'from', 'other', 'myself', 'because', 'what', 'so', \"hadn't\", 'own', 'our', 'do', 'yours', 'mustn', 'shan', 'y', 'all', 'theirs'}\n",
      "\n",
      "Omit - 'to', 'some' and 'yourself':\n",
      "\n",
      "List of fresh stopwords in English:\n",
      "{'your', 'doing', 'itself', 'wasn', \"weren't\", 're', 'm', \"should've\", 'had', 'more', 'the', \"haven't\", \"won't\", 'both', 'once', 'ma', 'my', 'there', 'has', 'until', \"she's\", 'i', 'being', 'off', 'hasn', 'aren', \"doesn't\", \"shouldn't\", 'over', 'it', 'below', 'very', \"mightn't\", 'her', \"needn't\", \"mustn't\", 'these', 'did', 'same', 'himself', 'after', 'themselves', 'above', 'am', 'be', 'hers', 'd', 'with', 'such', 's', 'under', 'does', 'not', 'when', \"aren't\", 'out', 'during', 'for', 'them', 'through', 'about', \"wouldn't\", 't', 'too', 'don', 'couldn', 'hadn', 'won', 'why', 'haven', 'mightn', \"you'll\", 'ours', \"you'd\", 'needn', 'few', 'that', 'were', 'herself', 'yourselves', 'before', 'we', 'have', 'this', \"hasn't\", 'most', 'but', \"didn't\", 'only', \"don't\", 'at', 'by', 'any', 'me', 'o', 'up', 'into', 'can', 'been', 'ain', 'if', 'doesn', 'those', \"wasn't\", \"it's\", 'is', 'an', 'and', 'further', \"isn't\", 'you', 'its', 'wouldn', 'didn', 'are', \"shan't\", 'their', 'll', 'will', 'no', 'again', 'which', 'shouldn', 'his', 'having', 'each', 'they', 'as', 'then', 'against', 'ourselves', 'should', 'while', 'down', 'she', 'in', 'of', \"you're\", 've', 'who', 'on', 'how', \"couldn't\", 'where', \"that'll\", 'was', 'or', 'he', 'than', 'here', 'just', 'between', 'isn', 'him', 'whom', \"you've\", 'a', 'now', 'weren', 'nor', 'from', 'other', 'myself', 'because', 'what', 'so', \"hadn't\", 'own', 'our', 'do', 'yours', 'mustn', 'shan', 'y', 'all', 'theirs'}\n"
     ]
    }
   ],
   "source": [
    "r = set(stopwords.words('english'))\n",
    "print(\"List of stopwords in English:\")\n",
    "print(r)\n",
    "print(\"\\nOmit - 'to', 'some' and 'yourself':\")\n",
    "stop_words = set(stopwords.words('english')) - set(['to', 'some', 'yourself'])\n",
    "print(\"\\nList of fresh stopwords in English:\")\n",
    "print (stop_words)"
   ]
  },
  {
   "cell_type": "markdown",
   "metadata": {},
   "source": [
    "# Question 4"
   ]
  },
  {
   "cell_type": "code",
   "execution_count": 16,
   "metadata": {},
   "outputs": [
    {
     "name": "stderr",
     "output_type": "stream",
     "text": [
      "[nltk_data] Downloading package wordnet to C:\\Users\\lakshay\n",
      "[nltk_data]     taneja\\AppData\\Roaming\\nltk_data...\n",
      "[nltk_data]   Package wordnet is already up-to-date!\n"
     ]
    },
    {
     "data": {
      "text/plain": [
       "True"
      ]
     },
     "execution_count": 16,
     "metadata": {},
     "output_type": "execute_result"
    }
   ],
   "source": [
    "nltk.download('wordnet')"
   ]
  },
  {
   "cell_type": "code",
   "execution_count": 17,
   "metadata": {},
   "outputs": [],
   "source": [
    "from nltk.corpus import wordnet"
   ]
  },
  {
   "cell_type": "code",
   "execution_count": 23,
   "metadata": {},
   "outputs": [
    {
     "name": "stdout",
     "output_type": "stream",
     "text": [
      "Defination of the said word:\n",
      "posing no difficulty; requiring little effort\n",
      "\n",
      "Examples of the word in use::\n",
      "['an easy job', 'an easy problem', 'an easy victory', 'the house is easy to heat', 'satisfied with easy answers', 'took the easy way out of his dilemma']\n"
     ]
    }
   ],
   "source": [
    "syns = wordnet.synsets(\"easy\")\n",
    "print(\"Defination of the said word:\")\n",
    "print(syns[0].definition())\n",
    "print(\"\\nExamples of the word in use::\")\n",
    "print(syns[0].examples())"
   ]
  },
  {
   "cell_type": "markdown",
   "metadata": {},
   "source": [
    "# Question 5"
   ]
  },
  {
   "cell_type": "code",
   "execution_count": 20,
   "metadata": {},
   "outputs": [
    {
     "name": "stdout",
     "output_type": "stream",
     "text": [
      "Gilbertine\n",
      "Aimee\n",
      "Loraine\n",
      "Jessa\n",
      "Ofelia\n",
      "Ruby\n",
      "Gabriela\n",
      "Kare\n",
      "Neddie\n",
      "Lian\n",
      "Angie\n",
      "Goober\n",
      "Donnamarie\n",
      "Winford\n",
      "Leo\n",
      "Jermaine\n",
      "Claudette\n",
      "Ferinand\n",
      "Paul\n",
      "Muffin\n"
     ]
    }
   ],
   "source": [
    "import random\n",
    "r = names.words('male.txt')+names.words('female.txt')\n",
    "for i in range(20):\n",
    "    print(random.choice(r))"
   ]
  },
  {
   "cell_type": "code",
   "execution_count": null,
   "metadata": {},
   "outputs": [],
   "source": []
  },
  {
   "cell_type": "code",
   "execution_count": null,
   "metadata": {},
   "outputs": [],
   "source": []
  }
 ],
 "metadata": {
  "kernelspec": {
   "display_name": "Python 3",
   "language": "python",
   "name": "python3"
  },
  "language_info": {
   "codemirror_mode": {
    "name": "ipython",
    "version": 3
   },
   "file_extension": ".py",
   "mimetype": "text/x-python",
   "name": "python",
   "nbconvert_exporter": "python",
   "pygments_lexer": "ipython3",
   "version": "3.7.3"
  }
 },
 "nbformat": 4,
 "nbformat_minor": 4
}
